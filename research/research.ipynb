{
 "cells": [
  {
   "cell_type": "code",
   "execution_count": 3,
   "id": "587f2e79",
   "metadata": {},
   "outputs": [],
   "source": [
    "import pandas as pd"
   ]
  },
  {
   "cell_type": "code",
   "execution_count": 12,
   "id": "4a370c13",
   "metadata": {},
   "outputs": [
    {
     "data": {
      "text/html": [
       "<div>\n",
       "<style scoped>\n",
       "    .dataframe tbody tr th:only-of-type {\n",
       "        vertical-align: middle;\n",
       "    }\n",
       "\n",
       "    .dataframe tbody tr th {\n",
       "        vertical-align: top;\n",
       "    }\n",
       "\n",
       "    .dataframe thead th {\n",
       "        text-align: right;\n",
       "    }\n",
       "</style>\n",
       "<table border=\"1\" class=\"dataframe\">\n",
       "  <thead>\n",
       "    <tr style=\"text-align: right;\">\n",
       "      <th></th>\n",
       "      <th>ham</th>\n",
       "      <th>Go until jurong point, crazy.. Available only in bugis n great world la e buffet... Cine there got amore wat...</th>\n",
       "    </tr>\n",
       "  </thead>\n",
       "  <tbody>\n",
       "    <tr>\n",
       "      <th>0</th>\n",
       "      <td>ham</td>\n",
       "      <td>Ok lar... Joking wif u oni...</td>\n",
       "    </tr>\n",
       "    <tr>\n",
       "      <th>1</th>\n",
       "      <td>spam</td>\n",
       "      <td>Free entry in 2 a wkly comp to win FA Cup fina...</td>\n",
       "    </tr>\n",
       "    <tr>\n",
       "      <th>2</th>\n",
       "      <td>ham</td>\n",
       "      <td>U dun say so early hor... U c already then say...</td>\n",
       "    </tr>\n",
       "    <tr>\n",
       "      <th>3</th>\n",
       "      <td>ham</td>\n",
       "      <td>Nah I don't think he goes to usf, he lives aro...</td>\n",
       "    </tr>\n",
       "    <tr>\n",
       "      <th>4</th>\n",
       "      <td>spam</td>\n",
       "      <td>FreeMsg Hey there darling it's been 3 week's n...</td>\n",
       "    </tr>\n",
       "    <tr>\n",
       "      <th>...</th>\n",
       "      <td>...</td>\n",
       "      <td>...</td>\n",
       "    </tr>\n",
       "    <tr>\n",
       "      <th>5566</th>\n",
       "      <td>spam</td>\n",
       "      <td>This is the 2nd time we have tried 2 contact u...</td>\n",
       "    </tr>\n",
       "    <tr>\n",
       "      <th>5567</th>\n",
       "      <td>ham</td>\n",
       "      <td>Will ü b going to esplanade fr home?</td>\n",
       "    </tr>\n",
       "    <tr>\n",
       "      <th>5568</th>\n",
       "      <td>ham</td>\n",
       "      <td>Pity, * was in mood for that. So...any other s...</td>\n",
       "    </tr>\n",
       "    <tr>\n",
       "      <th>5569</th>\n",
       "      <td>ham</td>\n",
       "      <td>The guy did some bitching but I acted like i'd...</td>\n",
       "    </tr>\n",
       "    <tr>\n",
       "      <th>5570</th>\n",
       "      <td>ham</td>\n",
       "      <td>Rofl. Its true to its name</td>\n",
       "    </tr>\n",
       "  </tbody>\n",
       "</table>\n",
       "<p>5571 rows × 2 columns</p>\n",
       "</div>"
      ],
      "text/plain": [
       "       ham  \\\n",
       "0      ham   \n",
       "1     spam   \n",
       "2      ham   \n",
       "3      ham   \n",
       "4     spam   \n",
       "...    ...   \n",
       "5566  spam   \n",
       "5567   ham   \n",
       "5568   ham   \n",
       "5569   ham   \n",
       "5570   ham   \n",
       "\n",
       "     Go until jurong point, crazy.. Available only in bugis n great world la e buffet... Cine there got amore wat...  \n",
       "0                         Ok lar... Joking wif u oni...                                                               \n",
       "1     Free entry in 2 a wkly comp to win FA Cup fina...                                                               \n",
       "2     U dun say so early hor... U c already then say...                                                               \n",
       "3     Nah I don't think he goes to usf, he lives aro...                                                               \n",
       "4     FreeMsg Hey there darling it's been 3 week's n...                                                               \n",
       "...                                                 ...                                                               \n",
       "5566  This is the 2nd time we have tried 2 contact u...                                                               \n",
       "5567               Will ü b going to esplanade fr home?                                                               \n",
       "5568  Pity, * was in mood for that. So...any other s...                                                               \n",
       "5569  The guy did some bitching but I acted like i'd...                                                               \n",
       "5570                         Rofl. Its true to its name                                                               \n",
       "\n",
       "[5571 rows x 2 columns]"
      ]
     },
     "execution_count": 12,
     "metadata": {},
     "output_type": "execute_result"
    }
   ],
   "source": [
    "pd.read_csv('../data/training_data/spamhamdata.csv',sep='\t')"
   ]
  },
  {
   "cell_type": "code",
   "execution_count": 11,
   "id": "d568568e",
   "metadata": {},
   "outputs": [
    {
     "data": {
      "text/plain": [
       "False"
      ]
     },
     "execution_count": 11,
     "metadata": {},
     "output_type": "execute_result"
    }
   ],
   "source": [
    "import psycopg2\n",
    "import os\n",
    "import dotenv\n",
    "dotenv.load_dotenv('.env')\n"
   ]
  },
  {
   "cell_type": "code",
   "execution_count": 12,
   "id": "bc43a7b9",
   "metadata": {},
   "outputs": [],
   "source": [
    "os.getenv('PYPORT_')"
   ]
  },
  {
   "cell_type": "code",
   "execution_count": 15,
   "id": "6b8188ff",
   "metadata": {},
   "outputs": [
    {
     "name": "stdout",
     "output_type": "stream",
     "text": [
      "('5e08def8-1fa6-11f0-a912-77784980d7c2', 'ham', 'Go until jurong point, crazy.. Available only in bugis n great world la e buffet... Cine there got amore wat...')\n"
     ]
    }
   ],
   "source": [
    "import psycopg2\n",
    "import os\n",
    "import dotenv\n",
    "dotenv.load_dotenv('.env')\n",
    "\n",
    "conn = psycopg2.connect(\n",
    "     database = os.getenv('PYDB'),\n",
    "        host = os.getenv('PYHOST'),\n",
    "        password = os.getenv('PYPASSWORD'),\n",
    "        user = os.getenv('PYUSERNAME'),\n",
    "        port = os.getenv('PYPORT_'))\n",
    "\n",
    "cursor = conn.cursor()\n",
    "\n",
    "\n",
    "cursor.execute('SELECT * FROM NLP')\n",
    "\n",
    "print(cursor.fetchone())\n",
    "\n",
    "conn.close()\n"
   ]
  },
  {
   "cell_type": "code",
   "execution_count": 8,
   "id": "bc4e16f6",
   "metadata": {},
   "outputs": [],
   "source": [
    "import yaml\n",
    "\n",
    "with open('../params.yaml','r') as f:\n",
    "    params = yaml.safe_load(f) \n"
   ]
  },
  {
   "cell_type": "code",
   "execution_count": 9,
   "id": "da98f6c0",
   "metadata": {},
   "outputs": [
    {
     "data": {
      "text/plain": [
       "{'transform_data': None, 'split_data': {'test_size': 0.3}}"
      ]
     },
     "execution_count": 9,
     "metadata": {},
     "output_type": "execute_result"
    }
   ],
   "source": [
    "params"
   ]
  },
  {
   "cell_type": "code",
   "execution_count": 1,
   "id": "7aa2bbb1",
   "metadata": {},
   "outputs": [],
   "source": [
    "import dotenv"
   ]
  },
  {
   "cell_type": "code",
   "execution_count": 2,
   "id": "3190811d",
   "metadata": {},
   "outputs": [
    {
     "data": {
      "text/plain": [
       "True"
      ]
     },
     "execution_count": 2,
     "metadata": {},
     "output_type": "execute_result"
    }
   ],
   "source": [
    "dotenv.load_dotenv()"
   ]
  },
  {
   "cell_type": "code",
   "execution_count": 7,
   "id": "767103ce",
   "metadata": {},
   "outputs": [
    {
     "data": {
      "text/plain": [
       "'localhost'"
      ]
     },
     "execution_count": 7,
     "metadata": {},
     "output_type": "execute_result"
    }
   ],
   "source": [
    "import os\n",
    "\n",
    "os.getenv('PYHOST')"
   ]
  },
  {
   "cell_type": "code",
   "execution_count": 8,
   "id": "9a59bbea",
   "metadata": {},
   "outputs": [
    {
     "name": "stdout",
     "output_type": "stream",
     "text": [
      "Connected successfully\n"
     ]
    }
   ],
   "source": [
    "import psycopg2\n",
    "\n",
    "conn = psycopg2.connect(\n",
    "    database='NLP',\n",
    "    user='postgres',\n",
    "    password='KaliLinux123',\n",
    "    host='localhost',\n",
    "    port='5432'\n",
    ")\n",
    "\n",
    "print(\"Connected successfully\")\n",
    "conn.close()\n"
   ]
  },
  {
   "cell_type": "code",
   "execution_count": null,
   "id": "849781b4",
   "metadata": {},
   "outputs": [
    {
     "ename": "OperationalError",
     "evalue": "",
     "output_type": "error",
     "traceback": [
      "\u001b[31m---------------------------------------------------------------------------\u001b[39m",
      "\u001b[31mOperationalError\u001b[39m                          Traceback (most recent call last)",
      "\u001b[36mCell\u001b[39m\u001b[36m \u001b[39m\u001b[32mIn[9]\u001b[39m\u001b[32m, line 9\u001b[39m\n\u001b[32m      1\u001b[39m \u001b[38;5;28;01mdef\u001b[39;00m\u001b[38;5;250m \u001b[39m\u001b[34mconnect_to_database\u001b[39m(query : \u001b[38;5;28mstr\u001b[39m,insert : \u001b[38;5;28mbool\u001b[39m = \u001b[38;5;28;01mFalse\u001b[39;00m,fetchone: \u001b[38;5;28mbool\u001b[39m = \u001b[38;5;28;01mTrue\u001b[39;00m):\n\u001b[32m      2\u001b[39m     conn = psycopg2.connect(\n\u001b[32m      3\u001b[39m     database=os.getenv(\u001b[33m'\u001b[39m\u001b[33mPYDATABASE\u001b[39m\u001b[33m'\u001b[39m),\n\u001b[32m      4\u001b[39m     host=os.getenv(\u001b[33m'\u001b[39m\u001b[33mPYHOST\u001b[39m\u001b[33m'\u001b[39m),\n\u001b[32m   (...)\u001b[39m\u001b[32m      7\u001b[39m     port=os.getenv(\u001b[33m'\u001b[39m\u001b[33mPYPORT_\u001b[39m\u001b[33m'\u001b[39m)\n\u001b[32m      8\u001b[39m )\n\u001b[32m----> \u001b[39m\u001b[32m9\u001b[39m \u001b[43mconnect_to_database\u001b[49m\u001b[43m(\u001b[49m\u001b[33;43m'\u001b[39;49m\u001b[33;43mSELECT * FROM NLP\u001b[39;49m\u001b[33;43m'\u001b[39;49m\u001b[43m)\u001b[49m\n\u001b[32m     10\u001b[39m \u001b[38;5;28mprint\u001b[39m(\u001b[33m\"\u001b[39m\u001b[33mConnected successfully\u001b[39m\u001b[33m\"\u001b[39m)\n\u001b[32m     11\u001b[39m conn.close()\n",
      "\u001b[36mCell\u001b[39m\u001b[36m \u001b[39m\u001b[32mIn[9]\u001b[39m\u001b[32m, line 2\u001b[39m, in \u001b[36mconnect_to_database\u001b[39m\u001b[34m(query, insert, fetchone)\u001b[39m\n\u001b[32m      1\u001b[39m \u001b[38;5;28;01mdef\u001b[39;00m\u001b[38;5;250m \u001b[39m\u001b[34mconnect_to_database\u001b[39m(query : \u001b[38;5;28mstr\u001b[39m,insert : \u001b[38;5;28mbool\u001b[39m = \u001b[38;5;28;01mFalse\u001b[39;00m,fetchone: \u001b[38;5;28mbool\u001b[39m = \u001b[38;5;28;01mTrue\u001b[39;00m):\n\u001b[32m----> \u001b[39m\u001b[32m2\u001b[39m     conn = \u001b[43mpsycopg2\u001b[49m\u001b[43m.\u001b[49m\u001b[43mconnect\u001b[49m\u001b[43m(\u001b[49m\n\u001b[32m      3\u001b[39m \u001b[43m    \u001b[49m\u001b[43mdatabase\u001b[49m\u001b[43m=\u001b[49m\u001b[43mos\u001b[49m\u001b[43m.\u001b[49m\u001b[43mgetenv\u001b[49m\u001b[43m(\u001b[49m\u001b[33;43m'\u001b[39;49m\u001b[33;43mPYDATABASE\u001b[39;49m\u001b[33;43m'\u001b[39;49m\u001b[43m)\u001b[49m\u001b[43m,\u001b[49m\n\u001b[32m      4\u001b[39m \u001b[43m    \u001b[49m\u001b[43mhost\u001b[49m\u001b[43m=\u001b[49m\u001b[43mos\u001b[49m\u001b[43m.\u001b[49m\u001b[43mgetenv\u001b[49m\u001b[43m(\u001b[49m\u001b[33;43m'\u001b[39;49m\u001b[33;43mPYHOST\u001b[39;49m\u001b[33;43m'\u001b[39;49m\u001b[43m)\u001b[49m\u001b[43m,\u001b[49m\n\u001b[32m      5\u001b[39m \u001b[43m    \u001b[49m\u001b[43mpassword\u001b[49m\u001b[43m=\u001b[49m\u001b[43mos\u001b[49m\u001b[43m.\u001b[49m\u001b[43mgetenv\u001b[49m\u001b[43m(\u001b[49m\u001b[33;43m'\u001b[39;49m\u001b[33;43mPYPASSWORD\u001b[39;49m\u001b[33;43m'\u001b[39;49m\u001b[43m)\u001b[49m\u001b[43m,\u001b[49m\n\u001b[32m      6\u001b[39m \u001b[43m    \u001b[49m\u001b[43muser\u001b[49m\u001b[43m=\u001b[49m\u001b[43mos\u001b[49m\u001b[43m.\u001b[49m\u001b[43mgetenv\u001b[49m\u001b[43m(\u001b[49m\u001b[33;43m'\u001b[39;49m\u001b[33;43mPYUSER\u001b[39;49m\u001b[33;43m'\u001b[39;49m\u001b[43m)\u001b[49m\u001b[43m,\u001b[49m\n\u001b[32m      7\u001b[39m \u001b[43m    \u001b[49m\u001b[43mport\u001b[49m\u001b[43m=\u001b[49m\u001b[43mos\u001b[49m\u001b[43m.\u001b[49m\u001b[43mgetenv\u001b[49m\u001b[43m(\u001b[49m\u001b[33;43m'\u001b[39;49m\u001b[33;43mPYPORT_\u001b[39;49m\u001b[33;43m'\u001b[39;49m\u001b[43m)\u001b[49m\n\u001b[32m      8\u001b[39m \u001b[43m)\u001b[49m\n",
      "\u001b[36mFile \u001b[39m\u001b[32mc:\\Users\\HP\\Desktop\\NLP\\venv\\Lib\\site-packages\\psycopg2\\__init__.py:122\u001b[39m, in \u001b[36mconnect\u001b[39m\u001b[34m(dsn, connection_factory, cursor_factory, **kwargs)\u001b[39m\n\u001b[32m    119\u001b[39m     kwasync[\u001b[33m'\u001b[39m\u001b[33masync_\u001b[39m\u001b[33m'\u001b[39m] = kwargs.pop(\u001b[33m'\u001b[39m\u001b[33masync_\u001b[39m\u001b[33m'\u001b[39m)\n\u001b[32m    121\u001b[39m dsn = _ext.make_dsn(dsn, **kwargs)\n\u001b[32m--> \u001b[39m\u001b[32m122\u001b[39m conn = \u001b[43m_connect\u001b[49m\u001b[43m(\u001b[49m\u001b[43mdsn\u001b[49m\u001b[43m,\u001b[49m\u001b[43m \u001b[49m\u001b[43mconnection_factory\u001b[49m\u001b[43m=\u001b[49m\u001b[43mconnection_factory\u001b[49m\u001b[43m,\u001b[49m\u001b[43m \u001b[49m\u001b[43m*\u001b[49m\u001b[43m*\u001b[49m\u001b[43mkwasync\u001b[49m\u001b[43m)\u001b[49m\n\u001b[32m    123\u001b[39m \u001b[38;5;28;01mif\u001b[39;00m cursor_factory \u001b[38;5;129;01mis\u001b[39;00m \u001b[38;5;129;01mnot\u001b[39;00m \u001b[38;5;28;01mNone\u001b[39;00m:\n\u001b[32m    124\u001b[39m     conn.cursor_factory = cursor_factory\n",
      "\u001b[31mOperationalError\u001b[39m: "
     ]
    }
   ],
   "source": [
    "def connect_to_database(query : str,insert : bool = False,fetchone: bool = True):\n",
    "    conn = psycopg2.connect(\n",
    "    database=os.getenv('PYDATABASE'),\n",
    "    host=os.getenv('PYHOST'),\n",
    "    password=os.getenv('PYPASSWORD'),\n",
    "    user=os.getenv('PYUSER'),\n",
    "    port=os.getenv('PYPORT_')\n",
    "    \n",
    ")   cursor = conn.cursor()\n",
    " \n",
    "\n",
    "    if insert:\n",
    "        pass\n",
    "    else:\n",
    "        cursor.execute(str(query))\n",
    "        if fetchone:\n",
    "            return cursor.fetchone()\n",
    "        else:\n",
    "            return cursor.fetchall()\n",
    "\n",
    "    conn.close()\n",
    "\n",
    "connect_to_database('SELECT * FROM NLP')\n",
    "print(\"Connected successfully\")\n",
    "conn.close()"
   ]
  },
  {
   "cell_type": "code",
   "execution_count": 10,
   "id": "524ca967",
   "metadata": {},
   "outputs": [
    {
     "name": "stdout",
     "output_type": "stream",
     "text": [
      "Database connection error: \n",
      "None\n"
     ]
    }
   ],
   "source": [
    "import psycopg2\n",
    "import os\n",
    "import dotenv\n",
    "\n",
    "dotenv.load_dotenv('.env')\n",
    "\n",
    "def connect_to_database(query: str, insert: bool = False, fetchone: bool = True):\n",
    "    try:\n",
    "        conn = psycopg2.connect(\n",
    "            database=os.getenv('PYDATABASE'),\n",
    "            host=os.getenv('PYHOST'),\n",
    "            password=os.getenv('PYPASSWORD'),\n",
    "            user=os.getenv('PYUSER'),\n",
    "            port=os.getenv('PYPORT_')\n",
    "        )\n",
    "        cursor = conn.cursor()\n",
    "\n",
    "        if insert:\n",
    "            cursor.execute(query)\n",
    "            conn.commit()\n",
    "            print(\"Insert executed successfully\")\n",
    "        else:\n",
    "            cursor.execute(query)\n",
    "            result = cursor.fetchone() if fetchone else cursor.fetchall()\n",
    "            print(\"Connected successfully\")\n",
    "            return result\n",
    "\n",
    "    except psycopg2.Error as e:\n",
    "        print(\"Database connection error:\", e)\n",
    "\n",
    "    finally:\n",
    "        if 'conn' in locals():\n",
    "            conn.close()\n",
    "\n",
    "\n",
    "# Test call\n",
    "result = connect_to_database(\"SELECT * FROM NLP\", fetchone=False)\n",
    "print(result)\n"
   ]
  },
  {
   "cell_type": "code",
   "execution_count": 11,
   "id": "7efaf001",
   "metadata": {},
   "outputs": [
    {
     "data": {
      "text/plain": [
       "'5432'"
      ]
     },
     "execution_count": 11,
     "metadata": {},
     "output_type": "execute_result"
    }
   ],
   "source": [
    "os.getenv('PYDATABASE'),\n",
    "os.getenv('PYHOST'),\n",
    "os.getenv('PYPASSWORD'),\n",
    "os.getenv('PYUSER'),\n",
    "os.getenv('PYPORT_')"
   ]
  },
  {
   "cell_type": "code",
   "execution_count": 16,
   "id": "ca97e109",
   "metadata": {},
   "outputs": [
    {
     "name": "stdout",
     "output_type": "stream",
     "text": [
      "DATABASE: NLP\n",
      "HOST: localhost\n",
      "USER: postgres\n",
      "PORT: 5432\n"
     ]
    }
   ],
   "source": [
    "print(\"DATABASE:\", os.getenv('PYDB'))\n",
    "print(\"HOST:\", os.getenv('PYHOST'))\n",
    "print(\"USER:\", os.getenv('PYUSERNAME'))\n",
    "print(\"PORT:\", os.getenv('PYPORT_'))\n"
   ]
  }
 ],
 "metadata": {
  "kernelspec": {
   "display_name": "venv",
   "language": "python",
   "name": "python3"
  },
  "language_info": {
   "codemirror_mode": {
    "name": "ipython",
    "version": 3
   },
   "file_extension": ".py",
   "mimetype": "text/x-python",
   "name": "python",
   "nbconvert_exporter": "python",
   "pygments_lexer": "ipython3",
   "version": "3.11.0"
  }
 },
 "nbformat": 4,
 "nbformat_minor": 5
}
